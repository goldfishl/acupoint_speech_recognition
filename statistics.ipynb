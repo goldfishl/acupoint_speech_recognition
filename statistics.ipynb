{
 "cells": [
  {
   "cell_type": "code",
   "execution_count": 3,
   "id": "195c2df0-0f61-47c1-a3b4-e655874d18fe",
   "metadata": {},
   "outputs": [],
   "source": [
    "import torch\n",
    "import torchaudio\n",
    "\n",
    "file_path = (\"./sample_data/sample_4738.wav\")\n",
    "\n",
    "\n",
    "waveform, sr = torchaudio.load(file_path)\n",
    "fbank = torchaudio.compliance.kaldi.fbank(waveform, htk_compat=True, \n",
    "                                  sample_frequency=sr, use_energy=False,\n",
    "                                  window_type='hanning', num_mel_bins=128, \n",
    "                                  dither=0.0, frame_shift=10)"
   ]
  },
  {
   "cell_type": "code",
   "execution_count": 6,
   "id": "cfd5782d-4d82-4866-b268-b998f45e6400",
   "metadata": {},
   "outputs": [
    {
     "data": {
      "text/plain": [
       "torch.Size([1, 153857])"
      ]
     },
     "execution_count": 6,
     "metadata": {},
     "output_type": "execute_result"
    }
   ],
   "source": [
    "waveform.shape"
   ]
  },
  {
   "cell_type": "code",
   "execution_count": 7,
   "id": "68bf426d-4082-43a4-9320-cecc4594b500",
   "metadata": {},
   "outputs": [
    {
     "data": {
      "text/plain": [
       "torch.Size([960, 128])"
      ]
     },
     "execution_count": 7,
     "metadata": {},
     "output_type": "execute_result"
    }
   ],
   "source": [
    "fbank.shape"
   ]
  },
  {
   "cell_type": "code",
   "execution_count": 8,
   "id": "51c34244-5a42-4177-b660-50286f2f346b",
   "metadata": {},
   "outputs": [
    {
     "data": {
      "text/plain": [
       "9.6160625"
      ]
     },
     "execution_count": 8,
     "metadata": {},
     "output_type": "execute_result"
    }
   ],
   "source": [
    "153857 / 16000"
   ]
  },
  {
   "cell_type": "markdown",
   "id": "cf43a60e-ba46-4084-828f-800c07bb4006",
   "metadata": {},
   "source": [
    "# statistics for paper\n",
    "## acupoint"
   ]
  },
  {
   "cell_type": "code",
   "execution_count": 13,
   "id": "b3bfad59-d8e9-49cb-ab56-9a069f8797aa",
   "metadata": {},
   "outputs": [
    {
     "name": "stdout",
     "output_type": "stream",
     "text": [
      "16830\n"
     ]
    }
   ],
   "source": [
    "import os\n",
    "import json\n",
    "\n",
    "\n",
    "dir_path = './data/acupoint/'\n",
    "data_set = [\"valid\", \"test\", \"train\"] \n",
    "\n",
    "whitelist = []\n",
    "for split in data_set:\n",
    "    with open(os.path.join(dir_path,split+\".json\"), 'r') as fp:\n",
    "        data_json = json.load(fp)\n",
    "        whitelist += [sd[\"wav\"][12:-4]+\".wav\" for sd in data_json]\n",
    "print(len(whitelist))"
   ]
  },
  {
   "cell_type": "code",
   "execution_count": 16,
   "id": "df4d9385-2004-425a-b053-fe266c82ba80",
   "metadata": {},
   "outputs": [
    {
     "name": "stdout",
     "output_type": "stream",
     "text": [
      "Start to statistic data in hard drive.\n"
     ]
    }
   ],
   "source": [
    "print('Start to statistic data in hard drive.')\n",
    "dir_path = os.path.join('./data', 'acupoint')\n",
    "splits = [\"valid\", \"test\", \"train\"]\n",
    "data = {}\n",
    "time_count = {}\n",
    "for _split in splits:\n",
    "    data[_split] = []\n",
    "    with open(os.path.join(dir_path,_split+\".json\"), 'r') as fp:\n",
    "        data_json = json.load(fp)\n",
    "        data[_split] += [sd[\"wav\"][12:-4]+\".wav\" for sd in data_json]"
   ]
  },
  {
   "cell_type": "code",
   "execution_count": 40,
   "id": "edb58538-26f1-4059-be43-073ec961323d",
   "metadata": {},
   "outputs": [
    {
     "name": "stderr",
     "output_type": "stream",
     "text": [
      "/ai/ljl1/ljy/.venv/default_acupoint/lib/python3.8/site-packages/librosa/util/decorators.py:88: UserWarning: PySoundFile failed. Trying audioread instead.\n",
      "  return f(*args, **kwargs)\n"
     ]
    }
   ],
   "source": [
    "# import torchaudio\n",
    "import librosa\n",
    "\n",
    "audio_data, sample_rate = librosa.load('./data/acupoint/6/7aQpn867/上髎.mp3', sr=16000)\n",
    "# waveform, sample_rate = torchaudio.load(, format=\"mp3\")\n"
   ]
  },
  {
   "cell_type": "code",
   "execution_count": 41,
   "id": "9ceac860-e465-4f3e-81f7-cfe7f4a4f693",
   "metadata": {},
   "outputs": [
    {
     "data": {
      "text/plain": [
       "2.52"
      ]
     },
     "execution_count": 41,
     "metadata": {},
     "output_type": "execute_result"
    }
   ],
   "source": [
    "audio_data.shape[0] / 16000"
   ]
  },
  {
   "cell_type": "code",
   "execution_count": 20,
   "id": "0cc2f72b-43e3-474a-a671-bf32def68a0a",
   "metadata": {},
   "outputs": [
    {
     "data": {
      "text/plain": [
       "'/ai/ljl1/ljy/notebook/project/projectv'"
      ]
     },
     "execution_count": 20,
     "metadata": {},
     "output_type": "execute_result"
    }
   ],
   "source": [
    "pwd"
   ]
  },
  {
   "cell_type": "code",
   "execution_count": null,
   "id": "883d55b9-f62d-4ea0-8ba6-ab16724d9a29",
   "metadata": {},
   "outputs": [],
   "source": []
  }
 ],
 "metadata": {
  "kernelspec": {
   "display_name": "default_acupoint",
   "language": "python",
   "name": "default_acupoint"
  },
  "language_info": {
   "codemirror_mode": {
    "name": "ipython",
    "version": 3
   },
   "file_extension": ".py",
   "mimetype": "text/x-python",
   "name": "python",
   "nbconvert_exporter": "python",
   "pygments_lexer": "ipython3",
   "version": "3.8.16"
  }
 },
 "nbformat": 4,
 "nbformat_minor": 5
}
